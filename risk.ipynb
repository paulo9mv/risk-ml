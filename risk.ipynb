{
 "cells": [
  {
   "cell_type": "code",
   "execution_count": 1,
   "metadata": {
    "collapsed": true
   },
   "outputs": [],
   "source": [
    import numpy as np
import pandas as pd
from sklearn.model_selection import train_test_split, cross_val_score
from sklearn.preprocessing import StandardScaler
from sklearn.linear_model import LogisticRegression
from sklearn.tree import DecisionTreeClassifier
from sklearn.ensemble import RandomForestClassifier
from sklearn.svm import SVC
from xgboost import XGBClassifier
from sklearn.metrics import classification_report, confusion_matrix, roc_auc_score
from imblearn.over_sampling import SMOTE

# Carregando os dados
data = pd.read_csv('creditcard.csv')

# Separando as features e o target
X = data.drop('Class', axis=1)
y = data['Class']

# Dividindo os dados em treino e teste
X_train, X_test, y_train, y_test = train_test_split(X, y, test_size=0.3, random_state=42, stratify=y)

# Normalizando os dados
scaler = StandardScaler()
X_train = scaler.fit_transform(X_train)
X_test = scaler.transform(X_test)

# Lidando com o desbalanceamento de classes
smote = SMOTE(random_state=42)
X_train_res, y_train_res = smote.fit_resample(X_train, y_train)

# Inicializando os modelos
models = {
    "Logistic Regression": LogisticRegression(),
    "Decision Tree": DecisionTreeClassifier(),
    "Random Forest": RandomForestClassifier(),
    "Support Vector Machine": SVC(probability=True),
    "XGBoost": XGBClassifier(eval_metric='logloss')
}

# Treinando e avaliando os modelos
for model_name, model in models.items():
    model.fit(X_train_res, y_train_res)
    y_pred = model.predict(X_test)
    y_prob = model.predict_proba(X_test)[:, 1]

    print(f"Results for {model_name}:")
    print(classification_report(y_test, y_pred))
    print("Confusion Matrix:")
    print(confusion_matrix(y_test, y_pred))
    print(f"ROC AUC Score: {roc_auc_score(y_test, y_prob)}")
    print("\n" + "="*60 + "\n")

   ]
  },
   ],
   "source": [
    "xx = next_batch(10000)\n",
    "plt.plot(xx[:,0], xx[:,1], '.')\n",
    "plt.show()\n",
    "xx.shape"
   ]
  },
  {
   "cell_type": "markdown",
   "metadata": {},
   "source": [
    "### Tensorflow\n",
    "For this demo we use tensorflow..."
   ]
  },
  {
   "cell_type": "code",
   "execution_count": 4,
   "metadata": {
    "collapsed": false
   },
   "outputs": [
    {
     "name": "stdout",
     "output_type": "stream",
     "text": [
      "Tensor Flow version 0.8.0\n"
     ]
    }
   ],
   "source": [
    "import tensorflow as tf\n",
    "print(\"Tensor Flow version {}\".format(tf.__version__))"
   ]
  },
  {
   "cell_type": "code",
   "execution_count": 5,
   "metadata": {
    "collapsed": true
   },
   "outputs": [],
   "source": [
    "# Functions to get variables\n",
    "def weights(shape):\n",
    "  initial = tf.truncated_normal(shape, stddev=0.1)\n",
    "  return tf.Variable(initial)\n",
    "\n",
    "def bias(shape):\n",
    "  initial = tf.constant(0.1, shape=shape)\n",
    "  return tf.Variable(initial)"
   ]
  },
  {
   "cell_type": "markdown",
   "metadata": {},
   "source": [
    "### Building the networks\n",
    "#### The encoder network $q_\\phi(z|x)$\n",
    "\n",
    "The decoder network takes the input image and calculates the mean $\\mu =$ `z_mu` and the log variance $\\log\\sigma^2 =$ `z_ls2` of the Gaussian, thus producing the latent variable z."
   ]
  },
  {
   "cell_type": "code",
   "execution_count": 6,
   "metadata": {
    "collapsed": false
   },
   "outputs": [],
   "source": [
    "n_z = 1 #Dimension of the latent space\n",
    "# Input\n",
    "x = tf.placeholder(\"float32\", shape=[None, 2]) #Batchsize x Number of Pixels\n",
    "n_hidden_1 = 5\n",
    "n_hidden_2 = 6\n",
    "\n",
    "# First hidden layer\n",
    "W_fc1 = weights([2, n_hidden_1])\n",
    "b_fc1 = bias([n_hidden_1])\n",
    "h_1   = tf.nn.softplus(tf.matmul(x, W_fc1) + b_fc1)\n",
    "\n",
    "# Second hidden layer\n",
    "W_fc2 = weights([n_hidden_1, n_hidden_2]) \n",
    "b_fc2 = bias([n_hidden_2])\n",
    "h_2   = tf.nn.softplus(tf.matmul(h_1, W_fc2) + b_fc2)\n",
    "\n",
    "\n",
    "# Parameters for the Gaussian\n",
    "z_mu = tf.add(tf.matmul(h_2, weights([n_hidden_2, n_z])), bias([n_z]))\n",
    "# A little trick:\n",
    "#  sigma is always > 0.\n",
    "#  We don't want to enforce that the network produces only positive numbers, therefore we let \n",
    "#  the network model the parameter log(\\sigma^2) $\\in [\\infty, \\infty]$\n",
    "z_ls2 = tf.add(tf.matmul(h_2, weights([n_hidden_2, n_z])), bias([n_z])) "
   ]
  },
  {
   "cell_type": "markdown",
   "metadata": {},
   "source": [
    "#### The decoder network $p_\\theta(x|z)$ a.k.a. generator network\n",
    "\n",
    "Samples from a Gaussian using the given mean and the std. The sampling is done by addding a random number ensuring that backpropagation works fine."
   ]
  },
  {
   "cell_type": "code",
   "execution_count": 7,
   "metadata": {
    "collapsed": false
   },
   "outputs": [],
   "source": [
    "batch_size = 640 #We have to define the batch size with the current version of TensorFlow\n",
    "eps = tf.random_normal((batch_size, n_z), 0, 1, dtype=tf.float32) # Adding a random number\n",
    "z = tf.add(z_mu, tf.mul(tf.sqrt(tf.exp(z_ls2)), eps))  # The sampled z"
   ]
  },
  {
   "cell_type": "code",
   "execution_count": 8,
   "metadata": {
    "collapsed": false
   },
   "outputs": [],
   "source": [
    "n_hidden_1 = 5\n",
    "n_hidden_2 = 6\n",
    "\n",
    "W_fc1_g = weights([n_z, n_hidden_1])\n",
    "b_fc1_g = bias([n_hidden_1])\n",
    "h_1_g   = tf.nn.softplus(tf.matmul(z, W_fc1_g) + b_fc1_g)\n",
    "\n",
    "W_fc2_g = weights([n_hidden_1, n_hidden_2])\n",
    "b_fc2_g = bias([n_hidden_2])\n",
    "h_2_g   = tf.nn.softplus(tf.matmul(h_1_g, W_fc2_g) + b_fc2_g)\n",
    "\n",
    "x_mu = tf.add(tf.matmul(h_2_g,  weights([n_hidden_2, 2])), bias([2]))\n",
    "x_ls2 = tf.add(tf.matmul(h_2_g,  weights([n_hidden_2, 2])), bias([2]))"
   ]
  },
  {
   "cell_type": "markdown",
   "metadata": {},
   "source": [
    "#### Defining the loss function\n",
    "\n",
    "##### The reconstruction error\n",
    "We assume that the data x, is Gaussian distributed with diagnoal covariance matrix $\\Sigma_{ij} = \\delta_{i,j} \\sigma_i^2$. The parameters of that Gaussian are determined by the encoder network. The reconstruction error for the $i-th$ example in the min-batch is given by \n",
    "$$\n",
    "    \\mathbb{E}_{q(z|x^{(i)})}\\left( \\log\\left(p(x^{(i)}|z)\\right)\\right) \n",
    "$$\n",
    "we approximate the expectation with samplinging from the distribution (eaven with $L=1$)\n",
    "$$\n",
    "    \\mathbb{E}_{q(z|x^{(i)})}\\left( \\log\\left(p(x^{(i)}|z)\\right)\\right) \\approx \n",
    "    \\frac{1}{L} \\sum_{i=1}^L \\log\\left(p(x^{(i)}|z^{(i,l)})\\right) \\approx \\log\\left(p(x^{(i)}|z^{(i,l)})\\right)\n",
    "$$\n",
    "\n",
    "For the simple $J-dimensional$ Gaussian, we obtain the following reconstruction error (neglegting a constant term)\n",
    "$$\n",
    "    -\\log\\left(p(x^{(i)}|z^{(i)})\\right) = \\sum_{j=1}^D \\frac{1}{2} \\log(\\sigma_{x_j}^2) + \\frac{(x^{(i)}_j - \\mu_{x_j})^2}{2 \\sigma_{x_j}^2}\n",
    "$$\n",
    "\n",
    "##### The regularisation term\n",
    "\n",
    "$$\n",
    "    -D_{\\tt{KL}} \\left( q(z|x^{(i)}) || p(z) \\right) = \\frac{1}{2} \\sum_{j=1}^{J} \\left(1 + \\log(\\sigma_{z_j}^{(i)^2}) - \\mu_{z_j}^{(i)^2} - \\sigma_{z_j}^{(i)^2} \\right)\n",
    "$$"
   ]
  },
  {
   "cell_type": "code",
   "execution_count": 9,
   "metadata": {
    "collapsed": false
   },
   "outputs": [],
   "source": [
    "reconstr_loss = tf.reduce_sum(0.5 * x_ls2 + (tf.square(x-x_mu)/(2.0 * tf.exp(x_ls2))), 1)\n",
    "latent_loss = -0.5 * tf.reduce_sum(1 + z_ls2 - tf.square(z_mu) - tf.exp(z_ls2), 1)\n",
    "cost = tf.reduce_mean(reconstr_loss + latent_loss)   # average over batch\n",
    "\n",
    "# Use ADAM optimizer\n",
    "optimizer =  tf.train.AdamOptimizer(learning_rate=0.01).minimize(cost)"
   ]
  },
  {
   "cell_type": "code",
   "execution_count": 10,
   "metadata": {
    "collapsed": false
   },
   "outputs": [
    {
     "name": "stdout",
     "output_type": "stream",
     "text": [
      "(640, 2)\n",
      "Test run after starting [-0.0061045298]\n"
     ]
    }
   ],
   "source": [
    "# This takes quite some time to converge. I am courious what would happen \n",
    "# if a proper optimizer is finally implemented in TensorFlow\n",
    "\n",
    "runs = 0#2000 #Set to 0, for no training\n",
    "init = tf.initialize_all_variables()\n",
    "saver = tf.train.Saver()\n",
    "with tf.Session() as sess:\n",
    "    sess.run(init)\n",
    "    batch_xs = next_batch(batch_size)\n",
    "    print(batch_xs.shape)\n",
    "    dd = sess.run([cost], feed_dict={x: batch_xs})\n",
    "    print('Test run after starting {}'.format(dd))\n",
    "\n",
    "    for epoch in range(runs):\n",
    "        avg_cost = 0.\n",
    "        batch_xs = next_batch(batch_size)\n",
    "        _,d, z_mean_val, z_log_sigma_sq_val = sess.run((optimizer, cost, z_mu, z_ls2), feed_dict={x: batch_xs})\n",
    "        avg_cost += d / batch_size\n",
    "\n",
    "        # Display logs per epoch step\n",
    "        if epoch % 50 == 0:\n",
    "            save_path = saver.save(sess, \"model_2d/model2d.ckpt\") #Saves the weights (not the graph)\n",
    "            print(\"Model saved in file: {}\".format(save_path))\n",
    "            print \"Epoch:\", '%04d' % (epoch+1), \"cost=\", \"{:.9f}\".format(avg_cost)\n",
    "            print (\"{} {} mean sigma2 {}\".format(z_mean_val.min(), z_mean_val.max(), np.mean(np.exp(z_log_sigma_sq_val))))\n",
    "            "
   ]
  },
  {
   "cell_type": "code",
   "execution_count": 11,
   "metadata": {
    "collapsed": false
   },
   "outputs": [],
   "source": [
    "saver = tf.train.Saver()\n",
    "with tf.Session() as sess:\n",
    "    saver.restore(sess, \"model_2d/model2d.ckpt\")\n",
    "    x_sample = next_batch(batch_size)\n",
    "    var = (x_mu, x_ls2, z, z_mu, z_ls2, cost, reconstr_loss, latent_loss)\n",
    "    out = sess.run(var, feed_dict={x: x_sample})\n",
    "    x_mu_val, x_ls2_val, z_vals, z_mu_val,z_ls2_val, cost_val, reconstr_loss_val,latent_loss_val = out"
   ]
  },
  {
   "cell_type": "code",
   "execution_count": 12,
   "metadata": {
    "collapsed": false
   },
   "outputs": [
    {
     "data": {
      "text/plain": [
       "[<matplotlib.lines.Line2D at 0x114d94110>]"
      ]
     },
     "execution_count": 12,
     "metadata": {},
     "output_type": "execute_result"
    },
    {
     "data": {
      "image/png": "iVBORw0KGgoAAAANSUhEUgAAAXcAAAD7CAYAAACRxdTpAAAABHNCSVQICAgIfAhkiAAAAAlwSFlz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\nIAiCIAiCIAiCIAiCIAiCIAiCIFSV/x88Sbrbed+9SwAAAABJRU5ErkJggg==\n",
      "text/plain": [
       "<matplotlib.figure.Figure at 0x11531df10>"
      ]
     },
     "metadata": {},
     "output_type": "display_data"
    }
   ],
   "source": [
    "plt.plot(x_mu_val[:,0], x_mu_val[:,1], '.')\n",
    "plt.plot(x_sample[:,0], x_sample[:,1], '+') "
   ]
  },
  {
   "cell_type": "code",
   "execution_count": 13,
   "metadata": {
    "collapsed": false
   },
   "outputs": [],
   "source": [
    "# Sampling from z=-2 to z=2\n",
    "z_vals = np.reshape(np.asarray(np.linspace(-2,2, batch_size), dtype='float32'), (batch_size,1))"
   ]
  },
  {
   "cell_type": "code",
   "execution_count": 14,
   "metadata": {
    "collapsed": true
   },
   "outputs": [],
   "source": [
    "saver = tf.train.Saver()\n",
    "with tf.Session() as sess:\n",
    "    saver.restore(sess, \"model_2d/model2d.ckpt\")\n",
    "    x_mu_val, x_ls2_val = sess.run((x_mu, x_ls2), feed_dict={z: z_vals})"
   ]
  },
  {
   "cell_type": "code",
   "execution_count": 15,
   "metadata": {
    "collapsed": false
   },
   "outputs": [],
   "source": [
    "idx = np.linspace(0, batch_size-1, 20, dtype='int32')"
   ]
  },
  {
   "cell_type": "code",
   "execution_count": 16,
   "metadata": {
    "collapsed": false
   },
   "outputs": [
    {
     "data": {
      "text/plain": [
       "<matplotlib.collections.PathCollection at 0x115a4cc90>"
      ]
     },
     "execution_count": 16,
     "metadata": {},
     "output_type": "execute_result"
    },
    {
     "name": "stderr",
     "output_type": "stream",
     "text": [
      "/System/Library/Frameworks/Python.framework/Versions/2.7/Extras/lib/python/matplotlib/collections.py:548: FutureWarning: elementwise comparison failed; returning scalar instead, but in the future will perform elementwise comparison\n",
      "  if self._edgecolors == 'face':\n"
     ]
    },
    {
     "data": {
      "image/png": "iVBORw0KGgoAAAANSUhEUgAAAX4AAAEACAYAAAC08h1NAAAABHNCSVQICAgIfAhkiAAAAAlwSFlz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\ngg==\n",
      "text/plain": [
       "<matplotlib.figure.Figure at 0x114d94350>"
      ]
     },
     "metadata": {},
     "output_type": "display_data"
    }
   ],
   "source": [
    "plt.scatter(x_mu_val[idx,0], x_mu_val[idx,1], c=z_vals[idx], s=60000* np.mean(np.exp(x_ls2_val[idx,:]), axis=1))"
   ]
  },
  {
   "cell_type": "code",
   "execution_count": null,
   "metadata": {
    "collapsed": true
   },
   "outputs": [],
   "source": []
  }
 ],
 "metadata": {
  "kernelspec": {
   "display_name": "Python 2",
   "language": "python",
   "name": "python2"
  },
  "language_info": {
   "codemirror_mode": {
    "name": "ipython",
    "version": 2
   },
   "file_extension": ".py",
   "mimetype": "text/x-python",
   "name": "python",
   "nbconvert_exporter": "python",
   "pygments_lexer": "ipython2",
   "version": "2.7.10"
  }
 },
 "nbformat": 4,
 "nbformat_minor": 0
}
